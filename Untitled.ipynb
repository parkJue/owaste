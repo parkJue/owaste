{
 "cells": [
  {
   "cell_type": "code",
   "execution_count": 1,
   "id": "a062035c",
   "metadata": {},
   "outputs": [],
   "source": [
    "import os\n",
    "\n",
    "os.environ.setdefault('DJANGO_SETTINGS_MODULE', 'owaste.settings')\n",
    "os.environ[\"DJANGO_ALLOW_ASYNC_UNSAFE\"] = \"true\"\n",
    "\n",
    "import django\n",
    "django.setup()"
   ]
  },
  {
   "cell_type": "code",
   "execution_count": 7,
   "id": "baf95d19",
   "metadata": {},
   "outputs": [
    {
     "data": {
      "text/plain": [
       "<User: parkeu>"
      ]
     },
     "execution_count": 7,
     "metadata": {},
     "output_type": "execute_result"
    }
   ],
   "source": [
    "from django.contrib.auth import get_user_model\n",
    "\n",
    "User = get_user_model()\n",
    "login_user = User.objects.get(username=\"parkeu\")\n",
    "login_user"
   ]
  },
  {
   "cell_type": "code",
   "execution_count": 8,
   "id": "b896502b",
   "metadata": {},
   "outputs": [],
   "source": [
    "from zerowaste.models import Shop, Oreview"
   ]
  },
  {
   "cell_type": "code",
   "execution_count": 11,
   "id": "d3062695",
   "metadata": {},
   "outputs": [
    {
     "data": {
      "text/plain": [
       "<QuerySet [<Shop: [7] 곁애>, <Shop: [18] 그린그리다>]>"
      ]
     },
     "execution_count": 11,
     "metadata": {},
     "output_type": "execute_result"
    }
   ],
   "source": [
    "shop_qs = Shop.objects.filter(oreview__user=login_user)\n",
    "shop_qs"
   ]
  },
  {
   "cell_type": "code",
   "execution_count": null,
   "id": "92d21006",
   "metadata": {},
   "outputs": [],
   "source": []
  }
 ],
 "metadata": {
  "kernelspec": {
   "display_name": "Python 3 (ipykernel)",
   "language": "python",
   "name": "python3"
  },
  "language_info": {
   "codemirror_mode": {
    "name": "ipython",
    "version": 3
   },
   "file_extension": ".py",
   "mimetype": "text/x-python",
   "name": "python",
   "nbconvert_exporter": "python",
   "pygments_lexer": "ipython3",
   "version": "3.10.8"
  }
 },
 "nbformat": 4,
 "nbformat_minor": 5
}
